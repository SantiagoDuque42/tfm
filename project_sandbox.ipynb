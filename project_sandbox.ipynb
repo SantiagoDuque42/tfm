{
 "cells": [
  {
   "cell_type": "code",
   "execution_count": 1,
   "id": "43b5a827",
   "metadata": {},
   "outputs": [
    {
     "name": "stdout",
     "output_type": "stream",
     "text": [
      "1.24.3\n",
      "2.10.0\n",
      "2.10.0\n"
     ]
    },
    {
     "name": "stderr",
     "output_type": "stream",
     "text": [
      "C:\\Users\\santi\\.conda\\envs\\tf-directml\\lib\\site-packages\\tqdm\\auto.py:21: TqdmWarning: IProgress not found. Please update jupyter and ipywidgets. See https://ipywidgets.readthedocs.io/en/stable/user_install.html\n",
      "  from .autonotebook import tqdm as notebook_tqdm\n"
     ]
    }
   ],
   "source": [
    "import data_loading\n",
    "import model_loading\n",
    "import data_raw\n",
    "import utils\n",
    "from tensorflow import keras\n",
    "import numpy as np\n",
    "import tensorflow as tf"
   ]
  },
  {
   "cell_type": "markdown",
   "id": "b7a83f9c",
   "metadata": {},
   "source": [
    "# Cargar datos y modelos"
   ]
  },
  {
   "cell_type": "code",
   "execution_count": 6,
   "id": "46f041c1",
   "metadata": {},
   "outputs": [],
   "source": [
    "# Carga de imágenes de entrenamiento y test\n",
    "\n",
    "train_data, train_labels, test_data, test_labels = data_loading.cargar_train_test_data()"
   ]
  },
  {
   "cell_type": "code",
   "execution_count": 10,
   "id": "f3b95fce",
   "metadata": {},
   "outputs": [],
   "source": [
    "modelo_base = model_loading.cargar_baseline_model()\n",
    "modelo_naive = model_loading.cargar_naive_model()\n",
    "modelo_destilado = model_loading.cargar_distilled_model()\n",
    "modelo_pgd = model_loading.cargar_pgd_model()\n",
    "modelo_ensemble = model_loading.cargar_ensemble_model()\n",
    "modelo_ensemble_destilado = model_loading.cargar_distilled_ensemble_model()\n",
    "modelo_detector = model_loading.cargar_detector_model()"
   ]
  },
  {
   "cell_type": "code",
   "execution_count": 4,
   "id": "6ccc54b2",
   "metadata": {},
   "outputs": [],
   "source": [
    "data_adv_cw = data_loading.cargar_adv_data_cw()\n",
    "data_adv_deepfool = data_loading.cargar_adv_data_deepfool()\n",
    "data_adv_hsj = data_loading.cargar_adv_data_hsj()\n",
    "data_adv_fgsm_03, data_adv_fgsm_02, data_adv_fgsm_01, data_adv_fgsm_005, data_adv_fgsm_0005 = data_loading.cargar_adv_data_fgsm()"
   ]
  },
  {
   "cell_type": "markdown",
   "id": "266edc88",
   "metadata": {},
   "source": [
    "# Generación de ataques "
   ]
  },
  {
   "cell_type": "markdown",
   "id": "2ae401a2",
   "metadata": {},
   "source": [
    "* Deepfool"
   ]
  },
  {
   "cell_type": "code",
   "execution_count": 8,
   "id": "95fd30ff",
   "metadata": {},
   "outputs": [],
   "source": [
    "from ataques import deepfool as df"
   ]
  },
  {
   "cell_type": "code",
   "execution_count": 9,
   "id": "dfc600e7",
   "metadata": {},
   "outputs": [
    {
     "name": "stderr",
     "output_type": "stream",
     "text": [
      "C:\\Users\\santi\\Desktop\\MASTER\\Modulos\\TFM\\Notebooks\\project-directory\\ataques\\deepfool.py:86: RuntimeWarning: divide by zero encountered in scalar divide\n",
      "  norma_k = abs(diff_etiquetas) / np.linalg.norm(tf.reshape(gradiente_total, [-1]))\n"
     ]
    }
   ],
   "source": [
    "deepfool = df.Ataque_DeepFool()\n",
    "\n",
    "adv_deepfool_data = deepfool.generar_ataque_deepfool(test_data[:3], modelo_base)\n",
    "adv_deepfool_data = np.squeeze(adv_deepfool_data, axis=1)"
   ]
  },
  {
   "cell_type": "markdown",
   "id": "45b2fecb",
   "metadata": {},
   "source": [
    "* Fast Gradient Sign Method & Carlini-Wagner"
   ]
  },
  {
   "cell_type": "code",
   "execution_count": 7,
   "id": "491c401d",
   "metadata": {},
   "outputs": [],
   "source": [
    "from ataques import ataques"
   ]
  },
  {
   "cell_type": "code",
   "execution_count": 8,
   "id": "5cd13c8e",
   "metadata": {},
   "outputs": [],
   "source": [
    "cw = ataques.Ataque_cw(modelo_base)\n",
    "fgsm = ataques.Ataque_fgsm(modelo_base)"
   ]
  },
  {
   "cell_type": "code",
   "execution_count": 9,
   "id": "658c8873",
   "metadata": {},
   "outputs": [
    {
     "name": "stderr",
     "output_type": "stream",
     "text": [
      "\r",
      "C&W L_inf:   0%|                                                                               | 0/100 [00:00<?, ?it/s]"
     ]
    },
    {
     "name": "stdout",
     "output_type": "stream",
     "text": [
      "WARNING:tensorflow:Calling GradientTape.gradient on a persistent tape inside its context is significantly less efficient than calling it outside the context (it causes the gradient ops to be recorded on the tape, leading to increased CPU and memory usage). Only call GradientTape.gradient inside the context if you actually want to trace the gradient in order to compute higher order derivatives.\n"
     ]
    },
    {
     "name": "stderr",
     "output_type": "stream",
     "text": [
      "C&W L_inf: 100%|█████████████████████████████████████████████████████████████████████| 100/100 [00:16<00:00,  6.07it/s]\n"
     ]
    }
   ],
   "source": [
    "# Parámetros: Imágenes \n",
    "adv_data_cw = cw.generar_ataque_cw(test_data[:100])\n",
    "\n",
    "# Parámetros: Imágenes / Épsilon\n",
    "adv_data_fgsm = fgsm.generar_ataque_fgsm(test_data[:100], 0.25)"
   ]
  },
  {
   "cell_type": "markdown",
   "id": "17d20ab7",
   "metadata": {},
   "source": [
    "* HopSkipJump"
   ]
  },
  {
   "cell_type": "code",
   "execution_count": 6,
   "id": "e6c1da19",
   "metadata": {},
   "outputs": [],
   "source": [
    "from ataques import hopskipjump"
   ]
  },
  {
   "cell_type": "code",
   "execution_count": 7,
   "id": "649e0995",
   "metadata": {
    "collapsed": true
   },
   "outputs": [
    {
     "name": "stderr",
     "output_type": "stream",
     "text": [
      "HopSkipJump: 100%|███████████████████████████████████████████████████████████████████████████████| 1/1 [00:00<?, ?it/s]\n",
      "HopSkipJump: 100%|███████████████████████████████████████████████████████████████████████| 1/1 [00:00<00:00,  1.55it/s]\n",
      "HopSkipJump: 100%|███████████████████████████████████████████████████████████████████████| 1/1 [00:00<00:00,  1.37it/s]\n",
      "HopSkipJump: 100%|███████████████████████████████████████████████████████████████████████| 1/1 [00:00<00:00,  1.35it/s]\n",
      "HopSkipJump: 100%|███████████████████████████████████████████████████████████████████████| 1/1 [00:00<00:00,  1.29it/s]\n",
      "HopSkipJump: 100%|███████████████████████████████████████████████████████████████████████| 1/1 [00:00<00:00,  1.23it/s]\n",
      "HopSkipJump: 100%|███████████████████████████████████████████████████████████████████████| 1/1 [00:00<00:00,  1.22it/s]\n",
      "HopSkipJump: 100%|███████████████████████████████████████████████████████████████████████| 1/1 [00:00<00:00,  1.25it/s]\n",
      "HopSkipJump: 100%|███████████████████████████████████████████████████████████████████████| 1/1 [00:00<00:00,  1.24it/s]\n",
      "HopSkipJump: 100%|███████████████████████████████████████████████████████████████████████| 1/1 [00:00<00:00,  1.21it/s]\n",
      "HopSkipJump: 100%|███████████████████████████████████████████████████████████████████████| 1/1 [00:00<00:00,  1.19it/s]\n",
      "HopSkipJump: 100%|███████████████████████████████████████████████████████████████████████| 1/1 [00:00<00:00,  1.19it/s]\n",
      "HopSkipJump: 100%|███████████████████████████████████████████████████████████████████████| 1/1 [00:00<00:00,  1.12it/s]\n",
      "HopSkipJump: 100%|███████████████████████████████████████████████████████████████████████| 1/1 [00:00<00:00,  1.17it/s]\n",
      "HopSkipJump: 100%|███████████████████████████████████████████████████████████████████████| 1/1 [00:00<00:00,  1.15it/s]\n",
      "HopSkipJump: 100%|███████████████████████████████████████████████████████████████████████| 1/1 [00:00<00:00,  1.14it/s]\n",
      "HopSkipJump: 100%|███████████████████████████████████████████████████████████████████████| 1/1 [00:00<00:00,  1.13it/s]\n",
      "HopSkipJump: 100%|███████████████████████████████████████████████████████████████████████| 1/1 [00:00<00:00,  1.10it/s]\n",
      "HopSkipJump: 100%|███████████████████████████████████████████████████████████████████████| 1/1 [00:00<00:00,  1.07it/s]\n",
      "HopSkipJump: 100%|███████████████████████████████████████████████████████████████████████| 1/1 [00:00<00:00,  1.06it/s]\n",
      "HopSkipJump: 100%|███████████████████████████████████████████████████████████████████████| 1/1 [00:00<00:00,  1.05it/s]\n",
      "HopSkipJump: 100%|███████████████████████████████████████████████████████████████████████| 1/1 [00:00<00:00,  1.05it/s]\n",
      "HopSkipJump: 100%|███████████████████████████████████████████████████████████████████████| 1/1 [00:00<00:00,  1.04it/s]\n",
      "HopSkipJump: 100%|███████████████████████████████████████████████████████████████████████| 1/1 [00:00<00:00,  1.02it/s]\n",
      "HopSkipJump: 100%|███████████████████████████████████████████████████████████████████████| 1/1 [00:00<00:00,  1.01it/s]\n",
      "HopSkipJump: 100%|███████████████████████████████████████████████████████████████████████| 1/1 [00:00<00:00,  1.01it/s]\n",
      "HopSkipJump: 100%|███████████████████████████████████████████████████████████████████████| 1/1 [00:00<00:00,  1.00it/s]\n",
      "HopSkipJump: 100%|███████████████████████████████████████████████████████████████████████| 1/1 [00:01<00:00,  1.01s/it]\n",
      "HopSkipJump: 100%|███████████████████████████████████████████████████████████████████████| 1/1 [00:01<00:00,  1.03s/it]\n",
      "HopSkipJump: 100%|███████████████████████████████████████████████████████████████████████| 1/1 [00:01<00:00,  1.01s/it]\n",
      "HopSkipJump: 100%|███████████████████████████████████████████████████████████████████████| 1/1 [00:00<00:00,  2.82it/s]\n",
      "HopSkipJump: 100%|███████████████████████████████████████████████████████████████████████| 1/1 [00:00<00:00,  2.82it/s]\n",
      "HopSkipJump: 100%|███████████████████████████████████████████████████████████████████████| 1/1 [00:00<00:00,  2.79it/s]\n",
      "HopSkipJump: 100%|███████████████████████████████████████████████████████████████████████| 1/1 [00:00<00:00,  2.80it/s]\n",
      "HopSkipJump: 100%|███████████████████████████████████████████████████████████████████████| 1/1 [00:00<00:00,  2.78it/s]\n",
      "HopSkipJump: 100%|███████████████████████████████████████████████████████████████████████| 1/1 [00:00<00:00,  2.76it/s]\n",
      "HopSkipJump: 100%|███████████████████████████████████████████████████████████████████████| 1/1 [00:00<00:00,  2.81it/s]\n",
      "HopSkipJump: 100%|███████████████████████████████████████████████████████████████████████| 1/1 [00:00<00:00,  2.82it/s]\n",
      "HopSkipJump: 100%|███████████████████████████████████████████████████████████████████████| 1/1 [00:00<00:00,  2.76it/s]\n",
      "HopSkipJump: 100%|███████████████████████████████████████████████████████████████████████| 1/1 [00:00<00:00,  2.79it/s]\n",
      "HopSkipJump: 100%|███████████████████████████████████████████████████████████████████████| 1/1 [00:00<00:00,  2.81it/s]\n",
      "HopSkipJump: 100%|███████████████████████████████████████████████████████████████████████| 1/1 [00:00<00:00,  2.72it/s]\n",
      "HopSkipJump: 100%|███████████████████████████████████████████████████████████████████████| 1/1 [00:00<00:00,  2.74it/s]\n",
      "HopSkipJump: 100%|███████████████████████████████████████████████████████████████████████| 1/1 [00:00<00:00,  2.80it/s]\n",
      "HopSkipJump: 100%|███████████████████████████████████████████████████████████████████████| 1/1 [00:00<00:00,  2.81it/s]\n",
      "HopSkipJump: 100%|███████████████████████████████████████████████████████████████████████| 1/1 [00:01<00:00,  1.02s/it]\n",
      "HopSkipJump: 100%|███████████████████████████████████████████████████████████████████████| 1/1 [00:01<00:00,  1.04s/it]\n",
      "HopSkipJump: 100%|███████████████████████████████████████████████████████████████████████| 1/1 [00:01<00:00,  1.04s/it]\n",
      "HopSkipJump: 100%|███████████████████████████████████████████████████████████████████████| 1/1 [00:01<00:00,  1.09s/it]\n",
      "HopSkipJump: 100%|███████████████████████████████████████████████████████████████████████| 1/1 [00:01<00:00,  1.07s/it]\n",
      "HopSkipJump: 100%|███████████████████████████████████████████████████████████████████████| 1/1 [00:01<00:00,  1.07s/it]\n",
      "HopSkipJump: 100%|███████████████████████████████████████████████████████████████████████| 1/1 [00:01<00:00,  1.07s/it]\n",
      "HopSkipJump: 100%|███████████████████████████████████████████████████████████████████████| 1/1 [00:01<00:00,  1.07s/it]\n",
      "HopSkipJump: 100%|███████████████████████████████████████████████████████████████████████| 1/1 [00:01<00:00,  1.09s/it]\n",
      "HopSkipJump: 100%|███████████████████████████████████████████████████████████████████████| 1/1 [00:01<00:00,  1.11s/it]\n",
      "HopSkipJump: 100%|███████████████████████████████████████████████████████████████████████| 1/1 [00:01<00:00,  1.12s/it]\n",
      "HopSkipJump: 100%|███████████████████████████████████████████████████████████████████████| 1/1 [00:01<00:00,  1.12s/it]\n",
      "HopSkipJump: 100%|███████████████████████████████████████████████████████████████████████| 1/1 [00:01<00:00,  1.13s/it]\n",
      "HopSkipJump: 100%|███████████████████████████████████████████████████████████████████████| 1/1 [00:01<00:00,  1.13s/it]\n",
      "HopSkipJump: 100%|███████████████████████████████████████████████████████████████████████| 1/1 [00:01<00:00,  1.13s/it]\n",
      "HopSkipJump: 100%|███████████████████████████████████████████████████████████████████████| 1/1 [00:01<00:00,  1.14s/it]\n",
      "HopSkipJump: 100%|███████████████████████████████████████████████████████████████████████| 1/1 [00:01<00:00,  1.15s/it]\n",
      "HopSkipJump: 100%|███████████████████████████████████████████████████████████████████████| 1/1 [00:01<00:00,  1.14s/it]\n",
      "HopSkipJump: 100%|███████████████████████████████████████████████████████████████████████| 1/1 [00:01<00:00,  1.16s/it]\n",
      "HopSkipJump: 100%|███████████████████████████████████████████████████████████████████████| 1/1 [00:01<00:00,  1.16s/it]\n",
      "HopSkipJump: 100%|███████████████████████████████████████████████████████████████████████| 1/1 [00:01<00:00,  1.16s/it]\n",
      "HopSkipJump: 100%|███████████████████████████████████████████████████████████████████████| 1/1 [00:01<00:00,  1.17s/it]\n",
      "HopSkipJump: 100%|███████████████████████████████████████████████████████████████████████| 1/1 [00:01<00:00,  1.17s/it]\n",
      "HopSkipJump: 100%|███████████████████████████████████████████████████████████████████████| 1/1 [00:01<00:00,  1.18s/it]\n",
      "HopSkipJump: 100%|███████████████████████████████████████████████████████████████████████| 1/1 [00:01<00:00,  1.18s/it]\n",
      "HopSkipJump: 100%|███████████████████████████████████████████████████████████████████████| 1/1 [00:01<00:00,  1.19s/it]\n",
      "HopSkipJump: 100%|███████████████████████████████████████████████████████████████████████| 1/1 [00:01<00:00,  1.19s/it]\n",
      "HopSkipJump: 100%|███████████████████████████████████████████████████████████████████████| 1/1 [00:01<00:00,  1.21s/it]\n",
      "HopSkipJump: 100%|███████████████████████████████████████████████████████████████████████| 1/1 [00:01<00:00,  1.20s/it]\n",
      "HopSkipJump: 100%|███████████████████████████████████████████████████████████████████████| 1/1 [00:01<00:00,  1.20s/it]\n",
      "HopSkipJump: 100%|███████████████████████████████████████████████████████████████████████| 1/1 [00:01<00:00,  1.21s/it]\n",
      "HopSkipJump: 100%|███████████████████████████████████████████████████████████████████████| 1/1 [00:01<00:00,  1.22s/it]\n",
      "HopSkipJump: 100%|███████████████████████████████████████████████████████████████████████| 1/1 [00:01<00:00,  1.23s/it]\n",
      "HopSkipJump: 100%|███████████████████████████████████████████████████████████████████████| 1/1 [00:01<00:00,  1.24s/it]\n",
      "HopSkipJump: 100%|███████████████████████████████████████████████████████████████████████| 1/1 [00:01<00:00,  1.23s/it]\n",
      "HopSkipJump: 100%|███████████████████████████████████████████████████████████████████████| 1/1 [00:01<00:00,  1.23s/it]\n",
      "HopSkipJump: 100%|███████████████████████████████████████████████████████████████████████| 1/1 [00:01<00:00,  1.24s/it]\n",
      "HopSkipJump: 100%|███████████████████████████████████████████████████████████████████████| 1/1 [00:01<00:00,  1.28s/it]\n",
      "HopSkipJump: 100%|███████████████████████████████████████████████████████████████████████| 1/1 [00:01<00:00,  1.28s/it]\n",
      "HopSkipJump: 100%|███████████████████████████████████████████████████████████████████████| 1/1 [00:01<00:00,  1.28s/it]\n",
      "HopSkipJump: 100%|███████████████████████████████████████████████████████████████████████| 1/1 [00:01<00:00,  1.29s/it]\n",
      "HopSkipJump: 100%|███████████████████████████████████████████████████████████████████████| 1/1 [00:01<00:00,  1.31s/it]\n",
      "HopSkipJump: 100%|███████████████████████████████████████████████████████████████████████| 1/1 [00:01<00:00,  1.30s/it]\n",
      "HopSkipJump: 100%|███████████████████████████████████████████████████████████████████████| 1/1 [00:01<00:00,  1.30s/it]\n",
      "HopSkipJump: 100%|███████████████████████████████████████████████████████████████████████| 1/1 [00:01<00:00,  1.30s/it]\n",
      "HopSkipJump: 100%|███████████████████████████████████████████████████████████████████████| 1/1 [00:01<00:00,  1.31s/it]\n",
      "HopSkipJump: 100%|███████████████████████████████████████████████████████████████████████| 1/1 [00:01<00:00,  1.31s/it]\n",
      "HopSkipJump: 100%|███████████████████████████████████████████████████████████████████████| 1/1 [00:01<00:00,  1.32s/it]\n",
      "HopSkipJump: 100%|███████████████████████████████████████████████████████████████████████| 1/1 [00:01<00:00,  1.32s/it]\n",
      "HopSkipJump: 100%|███████████████████████████████████████████████████████████████████████| 1/1 [00:01<00:00,  1.32s/it]\n",
      "HopSkipJump: 100%|███████████████████████████████████████████████████████████████████████| 1/1 [00:01<00:00,  1.33s/it]\n",
      "HopSkipJump: 100%|███████████████████████████████████████████████████████████████████████| 1/1 [00:01<00:00,  1.33s/it]\n",
      "HopSkipJump: 100%|███████████████████████████████████████████████████████████████████████| 1/1 [00:01<00:00,  1.33s/it]\n",
      "HopSkipJump: 100%|███████████████████████████████████████████████████████████████████████| 1/1 [00:01<00:00,  1.37s/it]\n",
      "HopSkipJump: 100%|███████████████████████████████████████████████████████████████████████| 1/1 [00:01<00:00,  1.37s/it]\n",
      "HopSkipJump: 100%|███████████████████████████████████████████████████████████████████████| 1/1 [00:01<00:00,  1.36s/it]\n",
      "HopSkipJump: 100%|███████████████████████████████████████████████████████████████████████| 1/1 [00:01<00:00,  1.36s/it]\n",
      "HopSkipJump: 100%|███████████████████████████████████████████████████████████████████████| 1/1 [00:01<00:00,  1.37s/it]\n",
      "HopSkipJump: 100%|███████████████████████████████████████████████████████████████████████| 1/1 [00:01<00:00,  1.37s/it]\n",
      "HopSkipJump: 100%|███████████████████████████████████████████████████████████████████████| 1/1 [00:01<00:00,  1.39s/it]\n",
      "HopSkipJump: 100%|███████████████████████████████████████████████████████████████████████| 1/1 [00:00<00:00,  2.79it/s]\n",
      "HopSkipJump: 100%|███████████████████████████████████████████████████████████████████████| 1/1 [00:00<00:00,  2.81it/s]\n",
      "HopSkipJump: 100%|███████████████████████████████████████████████████████████████████████| 1/1 [00:00<00:00,  2.77it/s]\n",
      "HopSkipJump: 100%|███████████████████████████████████████████████████████████████████████| 1/1 [00:00<00:00,  2.77it/s]\n",
      "HopSkipJump: 100%|███████████████████████████████████████████████████████████████████████| 1/1 [00:00<00:00,  2.77it/s]\n",
      "HopSkipJump: 100%|███████████████████████████████████████████████████████████████████████| 1/1 [00:00<00:00,  2.74it/s]\n",
      "HopSkipJump: 100%|███████████████████████████████████████████████████████████████████████| 1/1 [00:00<00:00,  2.76it/s]\n",
      "HopSkipJump: 100%|███████████████████████████████████████████████████████████████████████| 1/1 [00:00<00:00,  2.79it/s]\n",
      "HopSkipJump: 100%|███████████████████████████████████████████████████████████████████████| 1/1 [00:00<00:00,  2.79it/s]\n",
      "HopSkipJump: 100%|███████████████████████████████████████████████████████████████████████| 1/1 [00:00<00:00,  2.79it/s]\n",
      "HopSkipJump: 100%|███████████████████████████████████████████████████████████████████████| 1/1 [00:00<00:00,  2.78it/s]\n",
      "HopSkipJump: 100%|███████████████████████████████████████████████████████████████████████| 1/1 [00:00<00:00,  2.80it/s]\n",
      "HopSkipJump: 100%|███████████████████████████████████████████████████████████████████████| 1/1 [00:00<00:00,  2.78it/s]\n",
      "HopSkipJump: 100%|███████████████████████████████████████████████████████████████████████| 1/1 [00:00<00:00,  2.78it/s]\n",
      "HopSkipJump: 100%|███████████████████████████████████████████████████████████████████████| 1/1 [00:00<00:00,  2.80it/s]\n",
      "HopSkipJump: 100%|███████████████████████████████████████████████████████████████████████| 1/1 [00:00<00:00,  2.79it/s]\n",
      "HopSkipJump: 100%|███████████████████████████████████████████████████████████████████████| 1/1 [00:00<00:00,  2.80it/s]\n",
      "HopSkipJump: 100%|███████████████████████████████████████████████████████████████████████| 1/1 [00:00<00:00,  2.78it/s]\n",
      "HopSkipJump: 100%|███████████████████████████████████████████████████████████████████████| 1/1 [00:00<00:00,  2.52it/s]\n",
      "HopSkipJump: 100%|███████████████████████████████████████████████████████████████████████| 1/1 [00:00<00:00,  2.75it/s]\n",
      "HopSkipJump: 100%|███████████████████████████████████████████████████████████████████████| 1/1 [00:00<00:00,  2.77it/s]\n",
      "HopSkipJump: 100%|███████████████████████████████████████████████████████████████████████| 1/1 [00:00<00:00,  2.80it/s]\n",
      "HopSkipJump: 100%|███████████████████████████████████████████████████████████████████████| 1/1 [00:00<00:00,  2.74it/s]\n",
      "HopSkipJump: 100%|███████████████████████████████████████████████████████████████████████| 1/1 [00:00<00:00,  2.79it/s]\n",
      "HopSkipJump: 100%|███████████████████████████████████████████████████████████████████████| 1/1 [00:00<00:00,  2.77it/s]\n",
      "HopSkipJump: 100%|███████████████████████████████████████████████████████████████████████| 1/1 [00:00<00:00,  2.79it/s]\n",
      "HopSkipJump: 100%|███████████████████████████████████████████████████████████████████████| 1/1 [00:00<00:00,  2.82it/s]\n",
      "HopSkipJump: 100%|███████████████████████████████████████████████████████████████████████| 1/1 [00:00<00:00,  2.80it/s]\n",
      "HopSkipJump: 100%|███████████████████████████████████████████████████████████████████████| 1/1 [00:00<00:00,  2.77it/s]\n",
      "HopSkipJump: 100%|███████████████████████████████████████████████████████████████████████| 1/1 [00:00<00:00,  2.80it/s]\n",
      "HopSkipJump: 100%|███████████████████████████████████████████████████████████████████████| 1/1 [00:00<00:00,  2.78it/s]\n"
     ]
    },
    {
     "name": "stderr",
     "output_type": "stream",
     "text": [
      "HopSkipJump: 100%|███████████████████████████████████████████████████████████████████████| 1/1 [00:00<00:00,  2.79it/s]\n",
      "HopSkipJump: 100%|███████████████████████████████████████████████████████████████████████| 1/1 [00:00<00:00,  2.78it/s]\n",
      "HopSkipJump: 100%|███████████████████████████████████████████████████████████████████████| 1/1 [00:00<00:00,  2.80it/s]\n",
      "HopSkipJump: 100%|███████████████████████████████████████████████████████████████████████| 1/1 [00:00<00:00,  2.62it/s]\n",
      "HopSkipJump: 100%|███████████████████████████████████████████████████████████████████████| 1/1 [00:00<00:00,  2.81it/s]\n",
      "HopSkipJump: 100%|███████████████████████████████████████████████████████████████████████| 1/1 [00:00<00:00,  2.57it/s]\n",
      "HopSkipJump: 100%|███████████████████████████████████████████████████████████████████████| 1/1 [00:00<00:00,  2.78it/s]\n",
      "HopSkipJump: 100%|███████████████████████████████████████████████████████████████████████| 1/1 [00:00<00:00,  2.64it/s]\n",
      "HopSkipJump: 100%|███████████████████████████████████████████████████████████████████████| 1/1 [00:00<00:00,  2.78it/s]\n",
      "HopSkipJump: 100%|███████████████████████████████████████████████████████████████████████| 1/1 [00:00<00:00,  2.81it/s]\n",
      "HopSkipJump: 100%|███████████████████████████████████████████████████████████████████████| 1/1 [00:00<00:00,  2.74it/s]\n",
      "HopSkipJump: 100%|███████████████████████████████████████████████████████████████████████| 1/1 [00:00<00:00,  2.78it/s]\n",
      "HopSkipJump: 100%|███████████████████████████████████████████████████████████████████████| 1/1 [00:00<00:00,  2.75it/s]\n",
      "HopSkipJump: 100%|███████████████████████████████████████████████████████████████████████| 1/1 [00:00<00:00,  2.73it/s]\n"
     ]
    }
   ],
   "source": [
    "hsj = hopskipjump.Ataque_hsj(baseline_model)\n",
    "\n",
    "# Parámetros: Imágenes / Etiquetas / Nº Imágenes / Nº Iteraciones / Alpha\n",
    "\n",
    "adv_data_hsj, len_0, len_1 = hsj.generar_ataque_hsj(test_data[:10], test_labels[:10], 50, 15, 10)"
   ]
  },
  {
   "cell_type": "markdown",
   "id": "0bba1329",
   "metadata": {},
   "source": [
    "# Generación de modelos de defensa"
   ]
  },
  {
   "cell_type": "markdown",
   "id": "e23390ed",
   "metadata": {},
   "source": [
    "* Entrenamiento adversarial naive y naive de segundo orden"
   ]
  },
  {
   "cell_type": "code",
   "execution_count": 23,
   "id": "02c3e5a6",
   "metadata": {},
   "outputs": [],
   "source": [
    "import defensas.modelo_naive"
   ]
  },
  {
   "cell_type": "code",
   "execution_count": 24,
   "id": "59eda83b",
   "metadata": {},
   "outputs": [],
   "source": [
    "naive = defensas.modelo_naive.Modelo_Naive()"
   ]
  },
  {
   "cell_type": "code",
   "execution_count": 11,
   "id": "b4fa513e",
   "metadata": {},
   "outputs": [
    {
     "name": "stdout",
     "output_type": "stream",
     "text": [
      "Epoch 1/5\n",
      "1375/1375 [==============================] - 9s 6ms/step - loss: 0.6041 - accuracy: 0.6461\n",
      "Epoch 2/5\n",
      "1375/1375 [==============================] - 8s 6ms/step - loss: 0.3907 - accuracy: 0.8250\n",
      "Epoch 3/5\n",
      "1375/1375 [==============================] - 8s 6ms/step - loss: 0.3280 - accuracy: 0.8630\n",
      "Epoch 4/5\n",
      "1375/1375 [==============================] - 8s 6ms/step - loss: 0.3067 - accuracy: 0.8738\n",
      "Epoch 5/5\n",
      "1375/1375 [==============================] - 9s 6ms/step - loss: 0.2879 - accuracy: 0.8829\n"
     ]
    }
   ],
   "source": [
    "adv_ratio = 0.5\n",
    "epochs = 5\n",
    "\n",
    "# Parámetros: Imágenes / Etiquetas / Proporción adversarial / Épocas de entrenamiento\n",
    "\n",
    "modelo_naive = naive.entrenar_modelo_naive(modelo_base, train_data, train_labels, adv_ratio, epochs)"
   ]
  },
  {
   "cell_type": "code",
   "execution_count": null,
   "id": "ce20ea45",
   "metadata": {},
   "outputs": [],
   "source": [
    "# Modelo naive de segundo orden\n",
    "\n",
    "naive_2_orden = defensas.modelo_naive.Modelo_Naive()"
   ]
  },
  {
   "cell_type": "code",
   "execution_count": null,
   "id": "c4532875",
   "metadata": {},
   "outputs": [],
   "source": [
    "adv_ratio = 0.5\n",
    "epochs = 10\n",
    "modelo_naive_2_orden = naive_2_orden.entrenar_modelo_naive(modelo_naive, train_data, train_labels, adv_ratio, epochs)"
   ]
  },
  {
   "cell_type": "markdown",
   "id": "88118ced",
   "metadata": {},
   "source": [
    "* Entrenamiento adversarial con Projected Gradient Descent"
   ]
  },
  {
   "cell_type": "code",
   "execution_count": 3,
   "id": "cdfbcace",
   "metadata": {},
   "outputs": [],
   "source": [
    "import defensas.modelo_pgd"
   ]
  },
  {
   "cell_type": "code",
   "execution_count": 4,
   "id": "61488367",
   "metadata": {},
   "outputs": [],
   "source": [
    "pgd = defensas.modelo_pgd.Modelo_PGD()"
   ]
  },
  {
   "cell_type": "code",
   "execution_count": 5,
   "id": "45f6a94f",
   "metadata": {
    "collapsed": true
   },
   "outputs": [
    {
     "name": "stdout",
     "output_type": "stream",
     "text": [
      "Model: \"sequential\"\n",
      "_________________________________________________________________\n",
      " Layer (type)                Output Shape              Param #   \n",
      "=================================================================\n",
      " conv2d (Conv2D)             (None, 48, 48, 32)        896       \n",
      "                                                                 \n",
      " max_pooling2d (MaxPooling2D  (None, 24, 24, 32)       0         \n",
      " )                                                               \n",
      "                                                                 \n",
      " conv2d_1 (Conv2D)           (None, 22, 22, 64)        18496     \n",
      "                                                                 \n",
      " max_pooling2d_1 (MaxPooling  (None, 11, 11, 64)       0         \n",
      " 2D)                                                             \n",
      "                                                                 \n",
      " conv2d_2 (Conv2D)           (None, 9, 9, 128)         73856     \n",
      "                                                                 \n",
      " max_pooling2d_2 (MaxPooling  (None, 4, 4, 128)        0         \n",
      " 2D)                                                             \n",
      "                                                                 \n",
      " flatten (Flatten)           (None, 2048)              0         \n",
      "                                                                 \n",
      " dense (Dense)               (None, 512)               1049088   \n",
      "                                                                 \n",
      " dropout (Dropout)           (None, 512)               0         \n",
      "                                                                 \n",
      " dense_1 (Dense)             (None, 256)               131328    \n",
      "                                                                 \n",
      " dropout_1 (Dropout)         (None, 256)               0         \n",
      "                                                                 \n",
      " dense_2 (Dense)             (None, 2)                 514       \n",
      "                                                                 \n",
      "=================================================================\n",
      "Total params: 1,274,178\n",
      "Trainable params: 1,274,178\n",
      "Non-trainable params: 0\n",
      "_________________________________________________________________\n",
      "Época 1, Pérdida: 0.7018213272094727, Precisión: 0.4399999976158142\n",
      "Época 2, Pérdida: 0.6962873339653015, Precisión: 0.5099999904632568\n",
      "Época 3, Pérdida: 0.6895023584365845, Precisión: 0.5099999904632568\n",
      "Época 4, Pérdida: 0.6955464482307434, Precisión: 0.5\n",
      "Época 5, Pérdida: 0.684472918510437, Precisión: 0.5099999904632568\n",
      "Época 6, Pérdida: 0.7190518379211426, Precisión: 0.5099999904632568\n",
      "Época 7, Pérdida: 0.6873993873596191, Precisión: 0.5299999713897705\n",
      "Época 8, Pérdida: 0.6860461235046387, Precisión: 0.4899999797344208\n",
      "Época 9, Pérdida: 0.6874183416366577, Precisión: 0.4899999797344208\n",
      "Época 10, Pérdida: 0.7165725231170654, Precisión: 0.4899999797344208\n"
     ]
    }
   ],
   "source": [
    "num_adv_steps = 10\n",
    "step_size = 0.01\n",
    "epsilon = 0.2\n",
    "random_start = True\n",
    "max_num_training_steps = 10 #25\n",
    "\n",
    "# Parámetros: Imágenes / Etiquetas / Random Start (Bool) / Epsilon / Épocas / Nº Iteraciones / Alpha\n",
    "\n",
    "modelo_pgd = pgd.entrenar_modelo_pgd(train_data[:100], \n",
    "                                     train_labels[:100], \n",
    "                                     random_start, \n",
    "                                     epsilon, \n",
    "                                     max_num_training_steps, \n",
    "                                     num_adv_steps, \n",
    "                                     step_size)"
   ]
  },
  {
   "cell_type": "markdown",
   "id": "99c02239",
   "metadata": {},
   "source": [
    "* Destilación de redes"
   ]
  },
  {
   "cell_type": "code",
   "execution_count": 14,
   "id": "562fd80e",
   "metadata": {},
   "outputs": [],
   "source": [
    "import defensas.modelo_destilado"
   ]
  },
  {
   "cell_type": "code",
   "execution_count": 15,
   "id": "fd82540b",
   "metadata": {},
   "outputs": [],
   "source": [
    "destilado = defensas.modelo_destilado.Modelo_Destilado()"
   ]
  },
  {
   "cell_type": "code",
   "execution_count": 16,
   "id": "2c1a31f2",
   "metadata": {
    "collapsed": true
   },
   "outputs": [
    {
     "name": "stdout",
     "output_type": "stream",
     "text": [
      "Epoch 1/10\n",
      "1/1 [==============================] - 0s 412ms/step - loss: 0.6761 - accuracy: 0.7000\n",
      "Epoch 2/10\n",
      "1/1 [==============================] - 0s 6ms/step - loss: 0.6562 - accuracy: 0.6000\n",
      "Epoch 3/10\n",
      "1/1 [==============================] - 0s 6ms/step - loss: 0.6619 - accuracy: 0.6000\n",
      "Epoch 4/10\n",
      "1/1 [==============================] - 0s 7ms/step - loss: 0.6468 - accuracy: 0.6000\n",
      "Epoch 5/10\n",
      "1/1 [==============================] - 0s 6ms/step - loss: 0.6318 - accuracy: 0.6000\n",
      "Epoch 6/10\n",
      "1/1 [==============================] - 0s 8ms/step - loss: 0.6393 - accuracy: 0.6000\n",
      "Epoch 7/10\n",
      "1/1 [==============================] - 0s 7ms/step - loss: 0.6694 - accuracy: 0.5000\n",
      "Epoch 8/10\n",
      "1/1 [==============================] - 0s 7ms/step - loss: 0.6371 - accuracy: 0.6000\n",
      "Epoch 9/10\n",
      "1/1 [==============================] - 0s 8ms/step - loss: 0.5873 - accuracy: 0.6000\n",
      "Epoch 10/10\n",
      "1/1 [==============================] - 0s 7ms/step - loss: 0.6460 - accuracy: 0.6000\n",
      "Epoch 1/10\n",
      "1/1 [==============================] - 1s 674ms/step - accuracy: 0.4000\n",
      "Epoch 2/10\n",
      "1/1 [==============================] - 0s 7ms/step - accuracy: 0.6000\n",
      "Epoch 3/10\n",
      "1/1 [==============================] - 0s 8ms/step - accuracy: 0.6000\n",
      "Epoch 4/10\n",
      "1/1 [==============================] - 0s 8ms/step - accuracy: 0.4000\n",
      "Epoch 5/10\n",
      "1/1 [==============================] - 0s 8ms/step - accuracy: 0.4000\n",
      "Epoch 6/10\n",
      "1/1 [==============================] - 0s 8ms/step - accuracy: 0.4000\n",
      "Epoch 7/10\n",
      "1/1 [==============================] - 0s 9ms/step - accuracy: 0.4000\n",
      "Epoch 8/10\n",
      "1/1 [==============================] - 0s 9ms/step - accuracy: 0.4000\n",
      "Epoch 9/10\n",
      "1/1 [==============================] - 0s 10ms/step - accuracy: 0.7000\n",
      "Epoch 10/10\n",
      "1/1 [==============================] - 0s 10ms/step - accuracy: 0.6000\n",
      "WARNING:tensorflow:Detecting that an object or model or tf.train.Checkpoint is being deleted with unrestored values. See the following logs for the specific values in question. To silence these warnings, use `status.expect_partial()`. See https://www.tensorflow.org/api_docs/python/tf/train/Checkpoint#restorefor details about the status object returned by the restore function.\n",
      "WARNING:tensorflow:Value in checkpoint could not be found in the restored object: (root).optimizer.iter\n",
      "WARNING:tensorflow:Value in checkpoint could not be found in the restored object: (root).optimizer.beta_1\n",
      "WARNING:tensorflow:Value in checkpoint could not be found in the restored object: (root).optimizer.beta_2\n",
      "WARNING:tensorflow:Value in checkpoint could not be found in the restored object: (root).optimizer.decay\n",
      "WARNING:tensorflow:Value in checkpoint could not be found in the restored object: (root).optimizer.learning_rate\n",
      "WARNING:tensorflow:Value in checkpoint could not be found in the restored object: (root).teacher.optimizer.iter\n",
      "WARNING:tensorflow:Value in checkpoint could not be found in the restored object: (root).teacher.optimizer.beta_1\n",
      "WARNING:tensorflow:Value in checkpoint could not be found in the restored object: (root).teacher.optimizer.beta_2\n",
      "WARNING:tensorflow:Value in checkpoint could not be found in the restored object: (root).teacher.optimizer.decay\n",
      "WARNING:tensorflow:Value in checkpoint could not be found in the restored object: (root).teacher.optimizer.learning_rate\n",
      "WARNING:tensorflow:Value in checkpoint could not be found in the restored object: (root).teacher.optimizer's state 'm' for (root).teacher.layer_with_weights-0.kernel\n",
      "WARNING:tensorflow:Value in checkpoint could not be found in the restored object: (root).teacher.optimizer's state 'm' for (root).teacher.layer_with_weights-0.bias\n",
      "WARNING:tensorflow:Value in checkpoint could not be found in the restored object: (root).teacher.optimizer's state 'm' for (root).teacher.layer_with_weights-1.kernel\n",
      "WARNING:tensorflow:Value in checkpoint could not be found in the restored object: (root).teacher.optimizer's state 'm' for (root).teacher.layer_with_weights-1.bias\n",
      "WARNING:tensorflow:Value in checkpoint could not be found in the restored object: (root).teacher.optimizer's state 'm' for (root).teacher.layer_with_weights-2.kernel\n",
      "WARNING:tensorflow:Value in checkpoint could not be found in the restored object: (root).teacher.optimizer's state 'm' for (root).teacher.layer_with_weights-2.bias\n",
      "WARNING:tensorflow:Value in checkpoint could not be found in the restored object: (root).teacher.optimizer's state 'm' for (root).teacher.layer_with_weights-3.kernel\n",
      "WARNING:tensorflow:Value in checkpoint could not be found in the restored object: (root).teacher.optimizer's state 'm' for (root).teacher.layer_with_weights-3.bias\n",
      "WARNING:tensorflow:Value in checkpoint could not be found in the restored object: (root).teacher.optimizer's state 'm' for (root).teacher.layer_with_weights-4.kernel\n",
      "WARNING:tensorflow:Value in checkpoint could not be found in the restored object: (root).teacher.optimizer's state 'm' for (root).teacher.layer_with_weights-4.bias\n",
      "WARNING:tensorflow:Value in checkpoint could not be found in the restored object: (root).teacher.optimizer's state 'm' for (root).teacher.layer_with_weights-5.kernel\n",
      "WARNING:tensorflow:Value in checkpoint could not be found in the restored object: (root).teacher.optimizer's state 'm' for (root).teacher.layer_with_weights-5.bias\n",
      "WARNING:tensorflow:Value in checkpoint could not be found in the restored object: (root).teacher.optimizer's state 'v' for (root).teacher.layer_with_weights-0.kernel\n",
      "WARNING:tensorflow:Value in checkpoint could not be found in the restored object: (root).teacher.optimizer's state 'v' for (root).teacher.layer_with_weights-0.bias\n",
      "WARNING:tensorflow:Value in checkpoint could not be found in the restored object: (root).teacher.optimizer's state 'v' for (root).teacher.layer_with_weights-1.kernel\n",
      "WARNING:tensorflow:Value in checkpoint could not be found in the restored object: (root).teacher.optimizer's state 'v' for (root).teacher.layer_with_weights-1.bias\n",
      "WARNING:tensorflow:Value in checkpoint could not be found in the restored object: (root).teacher.optimizer's state 'v' for (root).teacher.layer_with_weights-2.kernel\n",
      "WARNING:tensorflow:Value in checkpoint could not be found in the restored object: (root).teacher.optimizer's state 'v' for (root).teacher.layer_with_weights-2.bias\n",
      "WARNING:tensorflow:Value in checkpoint could not be found in the restored object: (root).teacher.optimizer's state 'v' for (root).teacher.layer_with_weights-3.kernel\n",
      "WARNING:tensorflow:Value in checkpoint could not be found in the restored object: (root).teacher.optimizer's state 'v' for (root).teacher.layer_with_weights-3.bias\n",
      "WARNING:tensorflow:Value in checkpoint could not be found in the restored object: (root).teacher.optimizer's state 'v' for (root).teacher.layer_with_weights-4.kernel\n",
      "WARNING:tensorflow:Value in checkpoint could not be found in the restored object: (root).teacher.optimizer's state 'v' for (root).teacher.layer_with_weights-4.bias\n",
      "WARNING:tensorflow:Value in checkpoint could not be found in the restored object: (root).teacher.optimizer's state 'v' for (root).teacher.layer_with_weights-5.kernel\n",
      "WARNING:tensorflow:Value in checkpoint could not be found in the restored object: (root).teacher.optimizer's state 'v' for (root).teacher.layer_with_weights-5.bias\n"
     ]
    }
   ],
   "source": [
    "# Parámetros: Imágenes / Etiquetas / Épocas de entrenamiento\n",
    "\n",
    "modelo_destilado = destilado.entrenar_modelo_destilado(train_data[:10], train_labels[:10], 10)"
   ]
  },
  {
   "cell_type": "markdown",
   "id": "c373c668",
   "metadata": {},
   "source": [
    "* Entrenamiento adversarial de Ensemble"
   ]
  },
  {
   "cell_type": "code",
   "execution_count": 13,
   "id": "897e9c2d",
   "metadata": {},
   "outputs": [],
   "source": [
    "import defensas.modelo_ensemble"
   ]
  },
  {
   "cell_type": "code",
   "execution_count": 14,
   "id": "2291c2fe",
   "metadata": {},
   "outputs": [],
   "source": [
    "ensemble = defensas.modelo_ensemble.Modelo_Ensemble()"
   ]
  },
  {
   "cell_type": "code",
   "execution_count": 15,
   "id": "ee128ad6",
   "metadata": {},
   "outputs": [
    {
     "name": "stdout",
     "output_type": "stream",
     "text": [
      "Epoch 1/15\n",
      "375/375 [==============================] - 3s 6ms/step - loss: 0.6712 - accuracy: 0.5739\n",
      "Epoch 2/15\n",
      "375/375 [==============================] - 2s 6ms/step - loss: 0.4844 - accuracy: 0.7697\n",
      "Epoch 3/15\n",
      "375/375 [==============================] - 2s 6ms/step - loss: 0.3678 - accuracy: 0.8370\n",
      "Epoch 4/15\n",
      "375/375 [==============================] - 2s 6ms/step - loss: 0.2837 - accuracy: 0.8769\n",
      "Epoch 5/15\n",
      "375/375 [==============================] - 2s 6ms/step - loss: 0.2256 - accuracy: 0.9060\n",
      "Epoch 6/15\n",
      "375/375 [==============================] - 2s 5ms/step - loss: 0.1924 - accuracy: 0.9169\n",
      "Epoch 7/15\n",
      "375/375 [==============================] - 2s 5ms/step - loss: 0.1587 - accuracy: 0.9312\n",
      "Epoch 8/15\n",
      "375/375 [==============================] - 2s 5ms/step - loss: 0.1385 - accuracy: 0.9407\n",
      "Epoch 9/15\n",
      "375/375 [==============================] - 2s 6ms/step - loss: 0.1256 - accuracy: 0.9464\n",
      "Epoch 10/15\n",
      "375/375 [==============================] - 2s 6ms/step - loss: 0.1143 - accuracy: 0.9501\n",
      "Epoch 11/15\n",
      "375/375 [==============================] - 2s 6ms/step - loss: 0.1131 - accuracy: 0.9516\n",
      "Epoch 12/15\n",
      "375/375 [==============================] - 2s 6ms/step - loss: 0.1042 - accuracy: 0.9567\n",
      "Epoch 13/15\n",
      "375/375 [==============================] - 2s 6ms/step - loss: 0.1014 - accuracy: 0.9589\n",
      "Epoch 14/15\n",
      "375/375 [==============================] - 2s 6ms/step - loss: 0.0957 - accuracy: 0.9607\n",
      "Epoch 15/15\n",
      "375/375 [==============================] - 2s 6ms/step - loss: 0.0977 - accuracy: 0.9625\n"
     ]
    }
   ],
   "source": [
    "num_shadow_models = 3\n",
    "num_samples = 3000\n",
    "model_type = 'baseline'\n",
    "attack_type = 'fgsm'\n",
    "epochs = 15\n",
    "\n",
    "modelo_ensemble = ensemble.entrenar_modelo_ensemble(epochs,\n",
    "                                                    train_data[:10], \n",
    "                                                    train_labels[:10], \n",
    "                                                    num_samples,\n",
    "                                                    attack_type,\n",
    "                                                    model_type,\n",
    "                                                    num_shadow_models)"
   ]
  },
  {
   "cell_type": "markdown",
   "id": "f1804eb9",
   "metadata": {},
   "source": [
    "* Entrenamiento adversarial de Ensemble + Destilación de redes"
   ]
  },
  {
   "cell_type": "code",
   "execution_count": 4,
   "id": "b0b7d682",
   "metadata": {},
   "outputs": [],
   "source": [
    "import defensas.modelo_ensemble_destilado"
   ]
  },
  {
   "cell_type": "code",
   "execution_count": 5,
   "id": "ed44b31b",
   "metadata": {},
   "outputs": [],
   "source": [
    "ensemble_destilado = defensas.modelo_ensemble_destilado.Modelo_Ensemble_Destilado()"
   ]
  },
  {
   "cell_type": "code",
   "execution_count": 6,
   "id": "7ea2d6db",
   "metadata": {},
   "outputs": [
    {
     "name": "stdout",
     "output_type": "stream",
     "text": [
      "Epoch 1/15\n",
      "625/625 [==============================] - 6s 8ms/step - accuracy: 0.6017\n",
      "Epoch 2/15\n",
      "625/625 [==============================] - 5s 7ms/step - accuracy: 0.7754\n",
      "Epoch 3/15\n",
      "625/625 [==============================] - 5s 8ms/step - accuracy: 0.7958\n",
      "Epoch 4/15\n",
      "625/625 [==============================] - 5s 8ms/step - accuracy: 0.8070\n",
      "Epoch 5/15\n",
      "625/625 [==============================] - 5s 8ms/step - accuracy: 0.8158\n",
      "Epoch 6/15\n",
      "625/625 [==============================] - 5s 7ms/step - accuracy: 0.8230\n",
      "Epoch 7/15\n",
      "625/625 [==============================] - 5s 8ms/step - accuracy: 0.8311\n",
      "Epoch 8/15\n",
      "625/625 [==============================] - 5s 8ms/step - accuracy: 0.8334\n",
      "Epoch 9/15\n",
      "625/625 [==============================] - 5s 8ms/step - accuracy: 0.8418\n",
      "Epoch 10/15\n",
      "625/625 [==============================] - 5s 8ms/step - accuracy: 0.8442\n",
      "Epoch 11/15\n",
      "625/625 [==============================] - 5s 7ms/step - accuracy: 0.8465\n",
      "Epoch 12/15\n",
      "625/625 [==============================] - 5s 8ms/step - accuracy: 0.8496\n",
      "Epoch 13/15\n",
      "625/625 [==============================] - 5s 7ms/step - accuracy: 0.8531\n",
      "Epoch 14/15\n",
      "625/625 [==============================] - 5s 8ms/step - accuracy: 0.8519\n",
      "Epoch 15/15\n",
      "625/625 [==============================] - 5s 7ms/step - accuracy: 0.8569\n"
     ]
    }
   ],
   "source": [
    "modelo_ensemble_destilado = ensemble_destilado.entrenar_modelo_ensemble_destilado(train_data, train_labels, 15)"
   ]
  },
  {
   "cell_type": "markdown",
   "id": "2b8b956e",
   "metadata": {},
   "source": [
    "* Modelo con subred detectora de ataques"
   ]
  },
  {
   "cell_type": "code",
   "execution_count": 4,
   "id": "e472e891",
   "metadata": {},
   "outputs": [],
   "source": [
    "import defensas.modelo_detector"
   ]
  },
  {
   "cell_type": "code",
   "execution_count": 5,
   "id": "6792e897",
   "metadata": {},
   "outputs": [],
   "source": [
    "detector = defensas.modelo_detector.Modelo_Detector()"
   ]
  },
  {
   "cell_type": "code",
   "execution_count": 6,
   "id": "bdc61bc5",
   "metadata": {},
   "outputs": [
    {
     "name": "stdout",
     "output_type": "stream",
     "text": [
      "Epoch 1/15\n",
      "1375/1375 [==============================] - 9s 6ms/step - loss: 0.6266 - accuracy: 0.6306\n",
      "Epoch 2/15\n",
      "1375/1375 [==============================] - 8s 6ms/step - loss: 0.5044 - accuracy: 0.7648\n",
      "Epoch 3/15\n",
      "1375/1375 [==============================] - 8s 6ms/step - loss: 0.4585 - accuracy: 0.7908\n",
      "Epoch 4/15\n",
      "1375/1375 [==============================] - 8s 6ms/step - loss: 0.4145 - accuracy: 0.8143\n",
      "Epoch 5/15\n",
      "1375/1375 [==============================] - 8s 6ms/step - loss: 0.3873 - accuracy: 0.8304\n",
      "Epoch 6/15\n",
      "1375/1375 [==============================] - 8s 6ms/step - loss: 0.3748 - accuracy: 0.8371\n",
      "Epoch 7/15\n",
      "1375/1375 [==============================] - 9s 6ms/step - loss: 0.3605 - accuracy: 0.8452\n",
      "Epoch 8/15\n",
      "1375/1375 [==============================] - 8s 6ms/step - loss: 0.3537 - accuracy: 0.8481\n",
      "Epoch 9/15\n",
      "1375/1375 [==============================] - 8s 6ms/step - loss: 0.3481 - accuracy: 0.8503\n",
      "Epoch 10/15\n",
      "1375/1375 [==============================] - 8s 6ms/step - loss: 0.3420 - accuracy: 0.8527\n",
      "Epoch 11/15\n",
      "1375/1375 [==============================] - 8s 6ms/step - loss: 0.3401 - accuracy: 0.8542\n",
      "Epoch 12/15\n",
      "1375/1375 [==============================] - 8s 5ms/step - loss: 0.3296 - accuracy: 0.8600\n",
      "Epoch 13/15\n",
      "1375/1375 [==============================] - 8s 5ms/step - loss: 0.3357 - accuracy: 0.8567\n",
      "Epoch 14/15\n",
      "1375/1375 [==============================] - 8s 5ms/step - loss: 0.3292 - accuracy: 0.8603\n",
      "Epoch 15/15\n",
      "1375/1375 [==============================] - 8s 5ms/step - loss: 0.3236 - accuracy: 0.8629\n",
      "Epoch 1/7\n",
      "2750/2750 [==============================] - 15s 5ms/step - loss: 0.0099 - accuracy: 0.9974\n",
      "Epoch 2/7\n",
      "2750/2750 [==============================] - 15s 6ms/step - loss: 0.0015 - accuracy: 0.9997\n",
      "Epoch 3/7\n",
      "2750/2750 [==============================] - 15s 6ms/step - loss: 0.0019 - accuracy: 0.9997\n",
      "Epoch 4/7\n",
      "2750/2750 [==============================] - 15s 6ms/step - loss: 0.0012 - accuracy: 0.9997\n",
      "Epoch 5/7\n",
      "2750/2750 [==============================] - 15s 6ms/step - loss: 8.4036e-04 - accuracy: 0.9999\n",
      "Epoch 6/7\n",
      "2750/2750 [==============================] - 15s 5ms/step - loss: 7.0870e-04 - accuracy: 0.9998\n",
      "Epoch 7/7\n",
      "2750/2750 [==============================] - 15s 6ms/step - loss: 7.6354e-04 - accuracy: 0.9999\n"
     ]
    }
   ],
   "source": [
    "# Parámetros: Imágenes / Etiquetas / Épocas de entrenamiento del clasificador / Épocas de entrenamiento del detector\n",
    "\n",
    "modelo_detector = detector.entrenar_modelo_combinado(modelo_base, train_data, train_labels, 15, 7)"
   ]
  },
  {
   "cell_type": "markdown",
   "id": "f2fc2eef",
   "metadata": {},
   "source": [
    "# Benchmarking"
   ]
  },
  {
   "cell_type": "code",
   "execution_count": 7,
   "id": "52c9bf7c",
   "metadata": {},
   "outputs": [],
   "source": [
    "import benchmarking"
   ]
  },
  {
   "cell_type": "markdown",
   "id": "b30884f4",
   "metadata": {},
   "source": [
    "* Lista de etiquetas para evaluar HopSkipJump"
   ]
  },
  {
   "cell_type": "code",
   "execution_count": 8,
   "id": "0f4ca517",
   "metadata": {},
   "outputs": [],
   "source": [
    "def generar_etiquetas_test_hsj(len_0, len_1):\n",
    "    etiquetas_0 = np.full((len_0, 2), [1.0, 0.0])\n",
    "    etiquetas_1 = np.full((len_1, 2), [0.0, 1.0])\n",
    "    \n",
    "    etiquetas_combinadas = np.concatenate((etiquetas_0, etiquetas_1), axis=0)\n",
    "    \n",
    "    return etiquetas_combinadas"
   ]
  },
  {
   "cell_type": "markdown",
   "id": "b90ab2aa",
   "metadata": {},
   "source": [
    "* Métricas de evaluación"
   ]
  },
  {
   "cell_type": "code",
   "execution_count": 11,
   "id": "5ba9b8a1",
   "metadata": {},
   "outputs": [
    {
     "name": "stdout",
     "output_type": "stream",
     "text": [
      "32/32 [==============================] - 0s 1ms/step\n",
      "Accuracy: 0.89\n",
      "Precision: 0.90\n",
      "Recall: 0.86\n",
      "F1 Score: 0.88\n"
     ]
    },
    {
     "data": {
      "image/png": "[encoded data removed]",
      "text/plain": [
       "<Figure size 800x800 with 2 Axes>"
      ]
     },
     "metadata": {},
     "output_type": "display_data"
    },
    {
     "name": "stdout",
     "output_type": "stream",
     "text": [
      "Sensitivity: 0.86\n",
      "Specificity: 0.91\n",
      "****************************************\n"
     ]
    }
   ],
   "source": [
    "# Parámetros:\n",
    "# - El modelo a evaluar (keras.Model)\n",
    "# - Nombre del modelo para el título de la Matriz de Confusión gráfica (String)\n",
    "# - Etiquetas de las imágenes originales sobre las que se ha hecho el ataque (np.ndarray (,2))\n",
    "# - Ataque adversarial a analizar (np.ndarray(,50.50,3))\n",
    "# - Número de ataques adversariales a predecir (Int)\n",
    "\n",
    "benchmarking.analizar_precision_perturbacion(modelo_base, \"Baseline\", \n",
    "                                test_labels, \n",
    "                                test_data, \n",
    "                                1000)"
   ]
  },
  {
   "cell_type": "markdown",
   "id": "db86adcf",
   "metadata": {},
   "source": [
    "* Métricas de evaluación para la subred detectora (decibilidad adversarial)"
   ]
  },
  {
   "cell_type": "code",
   "execution_count": 26,
   "id": "87adad4b",
   "metadata": {},
   "outputs": [
    {
     "name": "stdout",
     "output_type": "stream",
     "text": [
      "Decidibilidad Adversarial: 99.980000\n"
     ]
    }
   ],
   "source": [
    "benchmarking.analizar_precision_perturbacion(modelo_detector, \"Detector\", \n",
    "                                test_labels, \n",
    "                                data_adv_fgsm_03, \n",
    "                                100, True)"
   ]
  },
  {
   "cell_type": "markdown",
   "id": "3f280119",
   "metadata": {},
   "source": [
    "* Robustez empírica"
   ]
  },
  {
   "cell_type": "code",
   "execution_count": 8,
   "id": "d275ecd6",
   "metadata": {},
   "outputs": [
    {
     "name": "stderr",
     "output_type": "stream",
     "text": [
      "HopSkipJump: 100%|█████████████████████████████████████████████████████████████████████| 50/50 [05:40<00:00,  6.81s/it]"
     ]
    },
    {
     "name": "stdout",
     "output_type": "stream",
     "text": [
      "0.008623716852322473\n"
     ]
    },
    {
     "name": "stderr",
     "output_type": "stream",
     "text": [
      "\n"
     ]
    },
    {
     "data": {
      "text/plain": [
       "0.008623716852322473"
      ]
     },
     "execution_count": 8,
     "metadata": {},
     "output_type": "execute_result"
    }
   ],
   "source": [
    "# Parámetros: Modelo, Imágenes a atacar, Tipo de ataque ('fgsm' o 'hsj'), Número de imágenes\n",
    "\n",
    "benchmarking.empirical_robustness(modelo_pgd, test_data, 'hsj', 50)"
   ]
  },
  {
   "cell_type": "code",
   "execution_count": null,
   "id": "1156c37f",
   "metadata": {},
   "outputs": [],
   "source": []
  }
 ],
 "metadata": {
  "kernelspec": {
   "display_name": "Python 3 (ipykernel)",
   "language": "python",
   "name": "python3"
  },
  "language_info": {
   "codemirror_mode": {
    "name": "ipython",
    "version": 3
   },
   "file_extension": ".py",
   "mimetype": "text/x-python",
   "name": "python",
   "nbconvert_exporter": "python",
   "pygments_lexer": "ipython3",
   "version": "3.8.18"
  }
 },
 "nbformat": 4,
 "nbformat_minor": 5
}
